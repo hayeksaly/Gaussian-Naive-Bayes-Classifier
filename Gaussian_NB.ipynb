{
  "nbformat": 4,
  "nbformat_minor": 0,
  "metadata": {
    "colab": {
      "name": "Gaussian NB.ipynb",
      "provenance": [],
      "collapsed_sections": []
    },
    "kernelspec": {
      "name": "python3",
      "display_name": "Python 3"
    },
    "language_info": {
      "name": "python"
    }
  },
  "cells": [
    {
      "cell_type": "markdown",
      "metadata": {
        "id": "bP9uQN0Q0-Wf"
      },
      "source": [
        "#**Challenge Of the Week: Gaussien Naive Bayes Classifier**\n",
        "\n",
        "---\n",
        "\n",
        "##**Case Study:** Iris Dataset\n",
        "\n",
        "**Objective:** The objective of this challenge is to make you know about Naive Bayes applied on Numerical Values.\n",
        "\n",
        "**DataSet Columns:**<br>\n",
        "*\t Petal Height\n",
        "*  Petal Width\t\n",
        "*  Sepal Height\t\n",
        "*  Sepal Width\t\n",
        "*  Target: The kind of the Iris flower (Virginica, Setosa, Versicolor)"
      ]
    },
    {
      "cell_type": "markdown",
      "metadata": {
        "id": "oHi57nVC1Yn2"
      },
      "source": [
        "# Importing Libraries"
      ]
    },
    {
      "cell_type": "code",
      "metadata": {
        "id": "i3lTMdVK07ES"
      },
      "source": [
        "import numpy as np\n",
        "import matplotlib.pyplot as plt\n",
        "import pandas as pd\n",
        "import math"
      ],
      "execution_count": null,
      "outputs": []
    },
    {
      "cell_type": "markdown",
      "metadata": {
        "id": "ntP2fLal1cGQ"
      },
      "source": [
        "# Loading the Dataset"
      ]
    },
    {
      "cell_type": "code",
      "metadata": {
        "colab": {
          "base_uri": "https://localhost:8080/",
          "height": 204
        },
        "id": "BzNYyltN1X9R",
        "outputId": "a50c7571-5354-49f5-dbc9-7027108f1548"
      },
      "source": [
        "path ='/content/iris.csv'\n",
        "df = pd.read_csv(path)\n",
        "df.columns = ['Sepal Height', 'Sepal Width', 'Petal Height', 'Petal Width', 'Target']\n",
        "df.head()"
      ],
      "execution_count": null,
      "outputs": [
        {
          "output_type": "execute_result",
          "data": {
            "text/html": [
              "<div>\n",
              "<style scoped>\n",
              "    .dataframe tbody tr th:only-of-type {\n",
              "        vertical-align: middle;\n",
              "    }\n",
              "\n",
              "    .dataframe tbody tr th {\n",
              "        vertical-align: top;\n",
              "    }\n",
              "\n",
              "    .dataframe thead th {\n",
              "        text-align: right;\n",
              "    }\n",
              "</style>\n",
              "<table border=\"1\" class=\"dataframe\">\n",
              "  <thead>\n",
              "    <tr style=\"text-align: right;\">\n",
              "      <th></th>\n",
              "      <th>Sepal Height</th>\n",
              "      <th>Sepal Width</th>\n",
              "      <th>Petal Height</th>\n",
              "      <th>Petal Width</th>\n",
              "      <th>Target</th>\n",
              "    </tr>\n",
              "  </thead>\n",
              "  <tbody>\n",
              "    <tr>\n",
              "      <th>0</th>\n",
              "      <td>5.1</td>\n",
              "      <td>3.5</td>\n",
              "      <td>1.4</td>\n",
              "      <td>0.2</td>\n",
              "      <td>Setosa</td>\n",
              "    </tr>\n",
              "    <tr>\n",
              "      <th>1</th>\n",
              "      <td>4.9</td>\n",
              "      <td>3.0</td>\n",
              "      <td>1.4</td>\n",
              "      <td>0.2</td>\n",
              "      <td>Setosa</td>\n",
              "    </tr>\n",
              "    <tr>\n",
              "      <th>2</th>\n",
              "      <td>4.7</td>\n",
              "      <td>3.2</td>\n",
              "      <td>1.3</td>\n",
              "      <td>0.2</td>\n",
              "      <td>Setosa</td>\n",
              "    </tr>\n",
              "    <tr>\n",
              "      <th>3</th>\n",
              "      <td>4.6</td>\n",
              "      <td>3.1</td>\n",
              "      <td>1.5</td>\n",
              "      <td>0.2</td>\n",
              "      <td>Setosa</td>\n",
              "    </tr>\n",
              "    <tr>\n",
              "      <th>4</th>\n",
              "      <td>5.0</td>\n",
              "      <td>3.6</td>\n",
              "      <td>1.4</td>\n",
              "      <td>0.2</td>\n",
              "      <td>Setosa</td>\n",
              "    </tr>\n",
              "  </tbody>\n",
              "</table>\n",
              "</div>"
            ],
            "text/plain": [
              "   Sepal Height  Sepal Width  Petal Height  Petal Width  Target\n",
              "0           5.1          3.5           1.4          0.2  Setosa\n",
              "1           4.9          3.0           1.4          0.2  Setosa\n",
              "2           4.7          3.2           1.3          0.2  Setosa\n",
              "3           4.6          3.1           1.5          0.2  Setosa\n",
              "4           5.0          3.6           1.4          0.2  Setosa"
            ]
          },
          "metadata": {
            "tags": []
          },
          "execution_count": 4
        }
      ]
    },
    {
      "cell_type": "markdown",
      "metadata": {
        "id": "KE5Znmrh5nW4"
      },
      "source": [
        "##Data Preprocessing"
      ]
    },
    {
      "cell_type": "markdown",
      "metadata": {
        "id": "d6cKCe7P7DYi"
      },
      "source": [
        "We will Change the string values to numerical."
      ]
    },
    {
      "cell_type": "code",
      "metadata": {
        "colab": {
          "base_uri": "https://localhost:8080/",
          "height": 204
        },
        "id": "H8eT9I255p7J",
        "outputId": "61bfe5a1-553f-4f6d-8cff-2cc6864cb0d7"
      },
      "source": [
        "from sklearn.preprocessing import LabelEncoder\n",
        "encoder = LabelEncoder()\n",
        "df['Target']=encoder.fit_transform(df['Target'])\n",
        "df.head()"
      ],
      "execution_count": null,
      "outputs": [
        {
          "output_type": "execute_result",
          "data": {
            "text/html": [
              "<div>\n",
              "<style scoped>\n",
              "    .dataframe tbody tr th:only-of-type {\n",
              "        vertical-align: middle;\n",
              "    }\n",
              "\n",
              "    .dataframe tbody tr th {\n",
              "        vertical-align: top;\n",
              "    }\n",
              "\n",
              "    .dataframe thead th {\n",
              "        text-align: right;\n",
              "    }\n",
              "</style>\n",
              "<table border=\"1\" class=\"dataframe\">\n",
              "  <thead>\n",
              "    <tr style=\"text-align: right;\">\n",
              "      <th></th>\n",
              "      <th>Sepal Height</th>\n",
              "      <th>Sepal Width</th>\n",
              "      <th>Petal Height</th>\n",
              "      <th>Petal Width</th>\n",
              "      <th>Target</th>\n",
              "    </tr>\n",
              "  </thead>\n",
              "  <tbody>\n",
              "    <tr>\n",
              "      <th>0</th>\n",
              "      <td>5.1</td>\n",
              "      <td>3.5</td>\n",
              "      <td>1.4</td>\n",
              "      <td>0.2</td>\n",
              "      <td>0</td>\n",
              "    </tr>\n",
              "    <tr>\n",
              "      <th>1</th>\n",
              "      <td>4.9</td>\n",
              "      <td>3.0</td>\n",
              "      <td>1.4</td>\n",
              "      <td>0.2</td>\n",
              "      <td>0</td>\n",
              "    </tr>\n",
              "    <tr>\n",
              "      <th>2</th>\n",
              "      <td>4.7</td>\n",
              "      <td>3.2</td>\n",
              "      <td>1.3</td>\n",
              "      <td>0.2</td>\n",
              "      <td>0</td>\n",
              "    </tr>\n",
              "    <tr>\n",
              "      <th>3</th>\n",
              "      <td>4.6</td>\n",
              "      <td>3.1</td>\n",
              "      <td>1.5</td>\n",
              "      <td>0.2</td>\n",
              "      <td>0</td>\n",
              "    </tr>\n",
              "    <tr>\n",
              "      <th>4</th>\n",
              "      <td>5.0</td>\n",
              "      <td>3.6</td>\n",
              "      <td>1.4</td>\n",
              "      <td>0.2</td>\n",
              "      <td>0</td>\n",
              "    </tr>\n",
              "  </tbody>\n",
              "</table>\n",
              "</div>"
            ],
            "text/plain": [
              "   Sepal Height  Sepal Width  Petal Height  Petal Width  Target\n",
              "0           5.1          3.5           1.4          0.2       0\n",
              "1           4.9          3.0           1.4          0.2       0\n",
              "2           4.7          3.2           1.3          0.2       0\n",
              "3           4.6          3.1           1.5          0.2       0\n",
              "4           5.0          3.6           1.4          0.2       0"
            ]
          },
          "metadata": {
            "tags": []
          },
          "execution_count": 5
        }
      ]
    },
    {
      "cell_type": "markdown",
      "metadata": {
        "id": "kqU9gnuF7exi"
      },
      "source": [
        "Make sure we have no null values"
      ]
    },
    {
      "cell_type": "code",
      "metadata": {
        "colab": {
          "base_uri": "https://localhost:8080/"
        },
        "id": "qU1E0ppR7aK0",
        "outputId": "4044af40-055a-4f12-bfa8-dcc76c151c88"
      },
      "source": [
        "df.info()"
      ],
      "execution_count": null,
      "outputs": [
        {
          "output_type": "stream",
          "text": [
            "<class 'pandas.core.frame.DataFrame'>\n",
            "RangeIndex: 150 entries, 0 to 149\n",
            "Data columns (total 5 columns):\n",
            " #   Column        Non-Null Count  Dtype  \n",
            "---  ------        --------------  -----  \n",
            " 0   Sepal Height  150 non-null    float64\n",
            " 1   Sepal Width   150 non-null    float64\n",
            " 2   Petal Height  150 non-null    float64\n",
            " 3   Petal Width   150 non-null    float64\n",
            " 4   Target        150 non-null    int64  \n",
            "dtypes: float64(4), int64(1)\n",
            "memory usage: 6.0 KB\n"
          ],
          "name": "stdout"
        }
      ]
    },
    {
      "cell_type": "markdown",
      "metadata": {
        "id": "gN8Yei2k5e2i"
      },
      "source": [
        "#Naive Bayes"
      ]
    },
    {
      "cell_type": "markdown",
      "metadata": {
        "id": "_o7UadL-7zVD"
      },
      "source": [
        "##Finding different Classes"
      ]
    },
    {
      "cell_type": "markdown",
      "metadata": {
        "id": "i0dKEoLZ8Amr"
      },
      "source": [
        "First, let's try to find how many classes we have in our dataset, although it should always appear in the description of your dataset."
      ]
    },
    {
      "cell_type": "code",
      "metadata": {
        "colab": {
          "base_uri": "https://localhost:8080/"
        },
        "id": "AgExYYDy72CK",
        "outputId": "d5707044-641d-43e9-f260-c8a05c8562a8"
      },
      "source": [
        "targets = df['Target'].unique()\n",
        "print(targets)"
      ],
      "execution_count": null,
      "outputs": [
        {
          "output_type": "stream",
          "text": [
            "[0 1 2]\n"
          ],
          "name": "stdout"
        }
      ]
    },
    {
      "cell_type": "markdown",
      "metadata": {
        "id": "we8EBYvX8JrF"
      },
      "source": [
        "SO we have 3 classes of flowers."
      ]
    },
    {
      "cell_type": "markdown",
      "metadata": {
        "id": "myjWSPheAWa6"
      },
      "source": [
        "Remember the basic formula that we used for Naive Bayes. <br>\n",
        "<img src=\"https://equatio-api.texthelp.com/svg/%5C%20P(%5Ctextcolor%7B%232B7FBB%7D%7BClass%7D%7C%5Ctextcolor%7B%23E94D40%7D%7BFeatures%7D)%3D%5Cfrac%7BP(%5Ctextcolor%7B%23E94D40%7D%7BFeatures%7D%7C%5Ctextcolor%7B%232B7FBB%7D%7BClass%7D)%5Ccdot%20P%5Cleft(%5Ctextcolor%7B%232B7FBB%7D%7BClass%7D%5Cright)%7D%7BP(%5Ctextcolor%7B%23E94D40%7D%7BFeatures%7D)%7D\" alt=\"P of open paren C l a. s s divides F of e a. t u r e s close paren equals the fraction with numerator P of open paren F of e a. t u r e s divides C l a. s s close paren times P of open paren C l a. s s close paren and denominator P of F of e a. t u r e s\">"
      ]
    },
    {
      "cell_type": "markdown",
      "metadata": {
        "id": "D2UrbRnHAh_R"
      },
      "source": [
        "Since we have 3 classes, and 4 features, we need to calculate the following probabilities.<br>\n",
        "<img src=\"https://equatio-api.texthelp.com/svg/P(%5Ctextcolor%7B%232B7FBB%7D%7BClass_0%7D%7C%5Ctextcolor%7B%23E94D40%7D%7BF1%2CF2%2CF3%2CF4%7D)\" alt=\"P of open paren C l a. s s sub 0 divides F of 1 comma F of 2 comma F of 3 comma F of 4 close paren\"> <br>\n",
        "<img src=\"https://equatio-api.texthelp.com/svg/P(%5Ctextcolor%7B%232B7FBB%7D%7BClass_1%7D%7C%5Ctextcolor%7B%23E94D40%7D%7BF1%2CF2%2CF3%2CF4%7D)\" alt=\"P of open paren C l a. s s sub 1 divides F of 1 comma F of 2 comma F of 3 comma F of 4 close paren\"> <br>\n",
        "<img src=\"https://equatio-api.texthelp.com/svg/P(%5Ctextcolor%7B%232B7FBB%7D%7BClass_2%7D%7C%5Ctextcolor%7B%23E94D40%7D%7BF1%2CF2%2CF3%2CF4%7D)\" alt=\"P of open paren C l a. s s sub 2 divides F of 1 comma F of 2 comma F of 3 comma F of 4 close paren\">\n"
      ]
    },
    {
      "cell_type": "markdown",
      "metadata": {
        "id": "N1vv6PrLBdLg"
      },
      "source": [
        "So in reality we need to calculate the following:"
      ]
    },
    {
      "cell_type": "markdown",
      "metadata": {
        "id": "tfolDf1zBlGQ"
      },
      "source": [
        "<img src=\"https://equatio-api.texthelp.com/svg/P_0%3DP(%5Ctextcolor%7B%232B7FBB%7D%7B%5Ctextcolor%7B%23E94D40%7D%7BF_1%7D%7D%7C%5Ctextcolor%7B%23E94D40%7D%7B%5Ctextcolor%7B%232B7FBB%7D%7BClass_0%7D%7D)P(%5Ctextcolor%7B%232B7FBB%7D%7B%5Ctextcolor%7B%23E94D40%7D%7BF_2%7D%7D%7C%5Ctextcolor%7B%23E94D40%7D%7B%5Ctextcolor%7B%232B7FBB%7D%7BClass_0%7D%7D)P(%5Ctextcolor%7B%232B7FBB%7D%7B%5Ctextcolor%7B%23E94D40%7D%7BF_3%7D%7D%7C%5Ctextcolor%7B%23E94D40%7D%7B%5Ctextcolor%7B%232B7FBB%7D%7BClass_0%7D%7D)P(%5Ctextcolor%7B%232B7FBB%7D%7B%5Ctextcolor%7B%23E94D40%7D%7BF_4%7D%7D%7C%5Ctextcolor%7B%23E94D40%7D%7B%5Ctextcolor%7B%232B7FBB%7D%7BClass_0%7D%7D)\" alt=\"P sub 0 equals P of open paren F sub 1 divides C l a. s s sub 0 close paren P of open paren F sub 2 divides C l a. s s sub 0 close paren P of open paren F sub 3 divides C l a. s s sub 0 close paren P of open paren F sub 4 divides C l a. s s sub 0 close paren\"><img src=\"https://equatio-api.texthelp.com/svg/P%5Cleft(%5Ctextcolor%7B%232B7FBB%7D%7BClass_0%7D%5Cright)\" alt=\"P of open paren C l a. s s sub 0 close paren\"><br><img src=\"https://equatio-api.texthelp.com/svg/P_1%3DP(%5Ctextcolor%7B%232B7FBB%7D%7B%5Ctextcolor%7B%23E94D40%7D%7BF_1%7D%7D%7C%5Ctextcolor%7B%23E94D40%7D%7B%5Ctextcolor%7B%232B7FBB%7D%7BClass_1%7D%7D)P(%5Ctextcolor%7B%232B7FBB%7D%7B%5Ctextcolor%7B%23E94D40%7D%7BF_2%7D%7D%7C%5Ctextcolor%7B%23E94D40%7D%7B%5Ctextcolor%7B%232B7FBB%7D%7BClass_1%7D%7D)P(%5Ctextcolor%7B%232B7FBB%7D%7B%5Ctextcolor%7B%23E94D40%7D%7BF_3%7D%7D%7C%5Ctextcolor%7B%23E94D40%7D%7B%5Ctextcolor%7B%232B7FBB%7D%7BClass_1%7D%7D)P(%5Ctextcolor%7B%232B7FBB%7D%7B%5Ctextcolor%7B%23E94D40%7D%7BF_4%7D%7D%7C%5Ctextcolor%7B%23E94D40%7D%7B%5Ctextcolor%7B%232B7FBB%7D%7BClass_1%7D%7D)\" alt=\"P sub 1 equals P of open paren F sub 1 divides C l a. s s sub 1 close paren P of open paren F sub 2 divides C l a. s s sub 1 close paren P of open paren F sub 3 divides C l a. s s sub 1 close paren P of open paren F sub 4 divides C l a. s s sub 1 close paren\"><img src=\"https://equatio-api.texthelp.com/svg/P%5Cleft(%5Ctextcolor%7B%232B7FBB%7D%7BClass_1%7D%5Cright)\" alt=\"P of open paren C l a. s s sub 1 close paren\"><br>\n",
        "<img src=\"https://equatio-api.texthelp.com/svg/P_2%3DP(%5Ctextcolor%7B%232B7FBB%7D%7B%5Ctextcolor%7B%23E94D40%7D%7BF_1%7D%7D%7C%5Ctextcolor%7B%23E94D40%7D%7B%5Ctextcolor%7B%232B7FBB%7D%7BClass_2%7D%7D)P(%5Ctextcolor%7B%232B7FBB%7D%7B%5Ctextcolor%7B%23E94D40%7D%7BF_2%7D%7D%7C%5Ctextcolor%7B%23E94D40%7D%7B%5Ctextcolor%7B%232B7FBB%7D%7BClass_2%7D%7D)P(%5Ctextcolor%7B%232B7FBB%7D%7B%5Ctextcolor%7B%23E94D40%7D%7BF_3%7D%7D%7C%5Ctextcolor%7B%23E94D40%7D%7B%5Ctextcolor%7B%232B7FBB%7D%7BClass_2%7D%7D)P(%5Ctextcolor%7B%232B7FBB%7D%7B%5Ctextcolor%7B%23E94D40%7D%7BF_4%7D%7D%7C%5Ctextcolor%7B%23E94D40%7D%7B%5Ctextcolor%7B%232B7FBB%7D%7BClass_2%7D%7D)P%5Cleft(%5Ctextcolor%7B%232B7FBB%7D%7BClass_2%7D%5Cright)\" alt=\"P sub 2 equals P of open paren F sub 1 divides C l a. s s sub 2 close paren P of open paren F sub 2 divides C l a. s s sub 2 close paren P of open paren F sub 3 divides C l a. s s sub 2 close paren P of open paren F sub 4 divides C l a. s s sub 2 close paren P of open paren C l a. s s sub 2 close paren\">\n",
        "\n"
      ]
    },
    {
      "cell_type": "markdown",
      "metadata": {
        "id": "HWodfMQv05nc"
      },
      "source": [
        "We see which one is the greatest, and based on that we assign the class."
      ]
    },
    {
      "cell_type": "markdown",
      "metadata": {
        "id": "Q-YKGe4Q0mjD"
      },
      "source": [
        "Those probabilities will be approximated using a distribution. \n",
        "In this example, we will use the Gaussien Distribution."
      ]
    },
    {
      "cell_type": "markdown",
      "metadata": {
        "id": "fAcatx6x1A2L"
      },
      "source": [
        "##Gaussian Probability Density Function "
      ]
    },
    {
      "cell_type": "markdown",
      "metadata": {
        "id": "_oj_NOLW1J-E"
      },
      "source": [
        "We recall that teh Gaussien Probability density function is given by:\n",
        "<br>\n",
        "<img src=\"https://equatio-api.texthelp.com/svg/f%5Cleft(x%5Cright)%3D%5Cfrac%7B1%7D%7B%5Csqrt%7B2%5Cpi%7D%5Ctextcolor%7B%238D44AD%7D%7B%5Csigma%7D%7D%5Cexp%5Cleft%5C%7B-%5Cfrac%7B%5Cleft(x-%5Ctextcolor%7B%233697DC%7D%7Bmean%7D%5Cright)%5E2%7D%7B2%5Ctextcolor%7B%238D44AD%7D%7B%5Csigma%7D%5E2%7D%5Cright%5C%7D\" alt=\"f of x equals 1 over the square root of 2 pi sigma the exp of open brace negative the fraction with numerator open paren x minus m e a. n close paren squared and denominator 2 sigma squared close brace\">"
      ]
    },
    {
      "cell_type": "code",
      "metadata": {
        "id": "lZnRXZJA01nM"
      },
      "source": [
        "def probability (x, mean, sigma):\n",
        "  prob = np.exp(-((x-mean)**2)/(2*sigma**2))/(sigma*np.sqrt(2*math.pi))\n",
        "  return prob"
      ],
      "execution_count": null,
      "outputs": []
    },
    {
      "cell_type": "markdown",
      "metadata": {
        "id": "PMpZQUyE1EnS"
      },
      "source": [
        "##Naive Bayes Implementation"
      ]
    },
    {
      "cell_type": "code",
      "metadata": {
        "id": "b-8D3Rxq_pbr"
      },
      "source": [
        "def naive_bayes (df, features, target_name):\n",
        "\n",
        "  num_examples = float(len(df))\n",
        "  num_features = features.shape[0]\n",
        "\n",
        "  #Separate Classes\n",
        "  class_0 = df[df[target_name]==0]\n",
        "  class_1 = df[df[target_name]==1]\n",
        "  class_2 = df[df[target_name]==2]\n",
        "  \n",
        "\n",
        "  #Probability of each class\n",
        "  p_class_0 = len(class_0)/num_examples\n",
        "  p_class_1 = len(class_1)/num_examples\n",
        "  p_class_2 = len(class_2)/num_examples\n",
        "\n",
        "  #mean and std for each feature given each class\n",
        "  mean_given_0 = np.mean(class_0, axis=0)\n",
        "  mean_given_1 = np.mean(class_1, axis=0)\n",
        "  mean_given_2 = np.mean(class_2, axis=0)\n",
        "\n",
        "  std_given_0 = np.std(class_0, axis=0)\n",
        "  std_given_1 = np.std(class_1, axis=0)\n",
        "  std_given_2 = np.std(class_2, axis=0)\n",
        "\n",
        "  #Probability of features given a specific class\n",
        "  p_f_given_0 = []\n",
        "  p_f_given_1 = []\n",
        "  p_f_given_2 = []\n",
        "\n",
        "  for i in range(num_features):\n",
        "    p_given_0 = probability(features[i], mean_given_0[i], std_given_0[i])\n",
        "    p_f_given_0.append(p_given_0)\n",
        "\n",
        "    p_given_1 = probability(features[i], mean_given_1[i], std_given_1[i])\n",
        "    p_f_given_1.append(p_given_1)\n",
        "\n",
        "    p_given_2 = probability(features[i], mean_given_2[i], std_given_2[i])\n",
        "    p_f_given_2.append(p_given_2)\n",
        "\n",
        "  p0 = np.prod(p_f_given_0)*p_class_0\n",
        "  p1 = np.prod(p_f_given_1)*p_class_1\n",
        "  p2 = np.prod(p_f_given_2)*p_class_2\n",
        "\n",
        "  return np.argmax([p0, p1, p2])\n"
      ],
      "execution_count": null,
      "outputs": []
    },
    {
      "cell_type": "markdown",
      "metadata": {
        "id": "GWXRIkmoGDyV"
      },
      "source": [
        "Test Naive Bayes with a prediction."
      ]
    },
    {
      "cell_type": "code",
      "metadata": {
        "colab": {
          "base_uri": "https://localhost:8080/"
        },
        "id": "z-Q66_iiH4FL",
        "outputId": "d8aedaa0-86f7-4259-fc4b-180f43001874"
      },
      "source": [
        "features = np.array([4.9, 3.0,\t1.4,\t0.2])\n",
        "result = naive_bayes(df, features, 'Target')\n",
        "print(\"This Iris flower is in the class \",result)"
      ],
      "execution_count": null,
      "outputs": [
        {
          "output_type": "stream",
          "text": [
            "    Sepal Height  Sepal Width  Petal Height  Petal Width  Target\n",
            "0            5.1          3.5           1.4          0.2       0\n",
            "1            4.9          3.0           1.4          0.2       0\n",
            "2            4.7          3.2           1.3          0.2       0\n",
            "3            4.6          3.1           1.5          0.2       0\n",
            "4            5.0          3.6           1.4          0.2       0\n",
            "5            5.4          3.9           1.7          0.4       0\n",
            "6            4.6          3.4           1.4          0.3       0\n",
            "7            5.0          3.4           1.5          0.2       0\n",
            "8            4.4          2.9           1.4          0.2       0\n",
            "9            4.9          3.1           1.5          0.1       0\n",
            "10           5.4          3.7           1.5          0.2       0\n",
            "11           4.8          3.4           1.6          0.2       0\n",
            "12           4.8          3.0           1.4          0.1       0\n",
            "13           4.3          3.0           1.1          0.1       0\n",
            "14           5.8          4.0           1.2          0.2       0\n",
            "15           5.7          4.4           1.5          0.4       0\n",
            "16           5.4          3.9           1.3          0.4       0\n",
            "17           5.1          3.5           1.4          0.3       0\n",
            "18           5.7          3.8           1.7          0.3       0\n",
            "19           5.1          3.8           1.5          0.3       0\n",
            "20           5.4          3.4           1.7          0.2       0\n",
            "21           5.1          3.7           1.5          0.4       0\n",
            "22           4.6          3.6           1.0          0.2       0\n",
            "23           5.1          3.3           1.7          0.5       0\n",
            "24           4.8          3.4           1.9          0.2       0\n",
            "25           5.0          3.0           1.6          0.2       0\n",
            "26           5.0          3.4           1.6          0.4       0\n",
            "27           5.2          3.5           1.5          0.2       0\n",
            "28           5.2          3.4           1.4          0.2       0\n",
            "29           4.7          3.2           1.6          0.2       0\n",
            "30           4.8          3.1           1.6          0.2       0\n",
            "31           5.4          3.4           1.5          0.4       0\n",
            "32           5.2          4.1           1.5          0.1       0\n",
            "33           5.5          4.2           1.4          0.2       0\n",
            "34           4.9          3.1           1.5          0.2       0\n",
            "35           5.0          3.2           1.2          0.2       0\n",
            "36           5.5          3.5           1.3          0.2       0\n",
            "37           4.9          3.6           1.4          0.1       0\n",
            "38           4.4          3.0           1.3          0.2       0\n",
            "39           5.1          3.4           1.5          0.2       0\n",
            "40           5.0          3.5           1.3          0.3       0\n",
            "41           4.5          2.3           1.3          0.3       0\n",
            "42           4.4          3.2           1.3          0.2       0\n",
            "43           5.0          3.5           1.6          0.6       0\n",
            "44           5.1          3.8           1.9          0.4       0\n",
            "45           4.8          3.0           1.4          0.3       0\n",
            "46           5.1          3.8           1.6          0.2       0\n",
            "47           4.6          3.2           1.4          0.2       0\n",
            "48           5.3          3.7           1.5          0.2       0\n",
            "49           5.0          3.3           1.4          0.2       0\n",
            "This Iris flower is in the class  0\n"
          ],
          "name": "stdout"
        }
      ]
    },
    {
      "cell_type": "markdown",
      "metadata": {
        "id": "LSylYkiz15zU"
      },
      "source": [
        "See the performance of our NB model"
      ]
    },
    {
      "cell_type": "markdown",
      "metadata": {
        "id": "GCvhS9H04sku"
      },
      "source": [
        "Now here we will splot our data between 2 sets:\n",
        "\n",
        "*   One from which the Naive Bayes Model will take the probabilities. (The **old** set)\n",
        "*   one that it hasn't seen before to test on it (The **new** set)"
      ]
    },
    {
      "cell_type": "code",
      "metadata": {
        "id": "C5UUqMI24XTH"
      },
      "source": [
        "from sklearn.model_selection import train_test_split\n",
        "x_old, x_new, y_old, y_new = train_test_split(df.iloc[:,:-1], df.iloc[:,-1], test_size=0.2)"
      ],
      "execution_count": null,
      "outputs": []
    },
    {
      "cell_type": "code",
      "metadata": {
        "colab": {
          "base_uri": "https://localhost:8080/"
        },
        "id": "0qEvL2Rv1r8Z",
        "outputId": "e7c7452a-8ed8-4b50-edd9-fb81ee3fb799"
      },
      "source": [
        "old_dataFrame = pd.concat([x_old,y_old], axis=1)\n",
        "\n",
        "errors = 0\n",
        "for i in range(len(x_new)):\n",
        "  res = naive_bayes(old_dataFrame, x_new.iloc[i,:], 'Target')\n",
        "  if res!=y_new.iloc[i]:\n",
        "    errors = errors + 1\n",
        "\n",
        "accuracy = (len(x_new) - errors)*100/len(x_new)\n",
        "print(\"Accuracy of our Naive Bayes is:\", accuracy, \"%\")"
      ],
      "execution_count": null,
      "outputs": [
        {
          "output_type": "stream",
          "text": [
            "Accuracy of our Naive Bayes is: 96.66666666666667 %\n"
          ],
          "name": "stdout"
        }
      ]
    },
    {
      "cell_type": "code",
      "metadata": {
        "id": "05n1dBV67nJR"
      },
      "source": [
        ""
      ],
      "execution_count": null,
      "outputs": []
    }
  ]
}